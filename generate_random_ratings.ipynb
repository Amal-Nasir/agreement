{
 "cells": [
  {
   "cell_type": "code",
   "execution_count": 41,
   "id": "885cb4d0-aa54-4ee3-ad6d-1585aa42a66b",
   "metadata": {},
   "outputs": [
    {
     "name": "stdout",
     "output_type": "stream",
     "text": [
      "Random numbers saved in random_numbers30.csv\n"
     ]
    }
   ],
   "source": [
    "import csv\n",
    "import random\n",
    "import numpy as np\n",
    "\n",
    "num_rows = 1332\n",
    "num_cols = 4\n",
    "\n",
    "# Generate random numbers for each column\n",
    "random_numbers = [[random.randint(1, 5) for _ in range(num_rows)] for _ in range(num_cols)]\n",
    "\n",
    "# Specify the file name and path\n",
    "filename = 'random_numbers30.csv'\n",
    "\n",
    "# Open the file in write mode and create a CSV writer object\n",
    "\n",
    "with open(filename, 'w', newline='') as file:\n",
    "    writer = csv.writer(file)\n",
    "\n",
    "    # Write the header row if needed\n",
    "    writer.writerow(['m1', 'm2', 'm3', 'm4'])\n",
    "\n",
    "    # Write the random numbers row by row\n",
    "    for row in zip(*random_numbers):\n",
    "        writer.writerow(row)\n",
    "\n",
    "print(\"Random numbers saved in\", filename)"
   ]
  },
  {
   "cell_type": "code",
   "execution_count": 2,
   "id": "7046cb9b-e097-4570-868a-cb6492760f32",
   "metadata": {},
   "outputs": [
    {
     "name": "stdout",
     "output_type": "stream",
     "text": [
      "{1: 285, 2: 267, 3: 263, 4: 255, 5: 262}\n"
     ]
    }
   ],
   "source": [
    "unique, counts = np.unique(random_numbers[0], return_counts=True)\n",
    "print(dict(zip(unique, counts)))"
   ]
  },
  {
   "cell_type": "code",
   "execution_count": 3,
   "id": "3a7d602b-a886-44eb-9493-1f186a7a9880",
   "metadata": {},
   "outputs": [
    {
     "name": "stdout",
     "output_type": "stream",
     "text": [
      "{1: 275, 2: 255, 3: 257, 4: 270, 5: 275}\n"
     ]
    }
   ],
   "source": [
    "unique, counts = np.unique(random_numbers[1], return_counts=True)\n",
    "print(dict(zip(unique, counts)))"
   ]
  },
  {
   "cell_type": "code",
   "execution_count": 4,
   "id": "3fbdfd18-b49c-4ec9-ac1c-3ae21d010c7c",
   "metadata": {},
   "outputs": [
    {
     "name": "stdout",
     "output_type": "stream",
     "text": [
      "{1: 262, 2: 268, 3: 232, 4: 278, 5: 292}\n"
     ]
    }
   ],
   "source": [
    "unique, counts = np.unique(random_numbers[2], return_counts=True)\n",
    "print(dict(zip(unique, counts)))"
   ]
  },
  {
   "cell_type": "code",
   "execution_count": 5,
   "id": "f1e15836-8fb6-4ece-8f49-08348fc0bda9",
   "metadata": {},
   "outputs": [
    {
     "name": "stdout",
     "output_type": "stream",
     "text": [
      "{1: 230, 2: 283, 3: 273, 4: 290, 5: 256}\n"
     ]
    }
   ],
   "source": [
    "unique, counts = np.unique(random_numbers[3], return_counts=True)\n",
    "print(dict(zip(unique, counts)))"
   ]
  },
  {
   "cell_type": "code",
   "execution_count": 9,
   "id": "3bb4b382-1276-46b7-98c3-6a562123ce11",
   "metadata": {},
   "outputs": [
    {
     "name": "stdout",
     "output_type": "stream",
     "text": [
      "30\n"
     ]
    }
   ],
   "source": [
    "num_rows = 1332\n",
    "num_cols = 4\n",
    "num_iterations = 30\n",
    "\n",
    "# Generate random numbers for each column 30 times\n",
    "all_random_numbers = []\n",
    "\n",
    "for _ in range(num_iterations):\n",
    "    random_numbers = [[random.randint(1, 5) for _ in range(num_rows)] for _ in range(num_cols)]\n",
    "    all_random_numbers.append(random_numbers)\n",
    "print(len(all_random_numbers))"
   ]
  },
  {
   "cell_type": "code",
   "execution_count": null,
   "id": "f3f512c2-1d73-4682-b0ca-e1ae4cb551c7",
   "metadata": {},
   "outputs": [],
   "source": []
  }
 ],
 "metadata": {
  "kernelspec": {
   "display_name": "Python 3",
   "language": "python",
   "name": "python3"
  },
  "language_info": {
   "codemirror_mode": {
    "name": "ipython",
    "version": 3
   },
   "file_extension": ".py",
   "mimetype": "text/x-python",
   "name": "python",
   "nbconvert_exporter": "python",
   "pygments_lexer": "ipython3",
   "version": "3.9.7"
  }
 },
 "nbformat": 4,
 "nbformat_minor": 5
}
