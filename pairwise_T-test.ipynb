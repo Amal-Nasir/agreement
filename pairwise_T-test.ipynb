{
 "cells": [
  {
   "cell_type": "code",
   "execution_count": 1,
   "id": "10ed6def-95be-41b4-9364-96e364798572",
   "metadata": {},
   "outputs": [],
   "source": [
    "import pandas as pd\n",
    "import numpy as np \n",
    "import scipy.stats as stats\n",
    "from scipy.stats import ttest_ind\n",
    "from scipy.stats import mannwhitneyu\n",
    "from statsmodels.stats.multicomp import pairwise_tukeyhsd\n",
    "import matplotlib.pyplot as plt"
   ]
  },
  {
   "cell_type": "markdown",
   "id": "328ece5f-0f12-4e3b-8eac-c737c789971e",
   "metadata": {},
   "source": [
    "## Malignancy: "
   ]
  },
  {
   "cell_type": "markdown",
   "id": "a18b49c9-6988-4dfc-8a65-1c5549b936df",
   "metadata": {},
   "source": [
    "### Designed Features:"
   ]
  },
  {
   "cell_type": "markdown",
   "id": "a3c0d594-a0ad-4594-a030-74ebb212a221",
   "metadata": {},
   "source": [
    "#### Radiologists Agreements"
   ]
  },
  {
   "cell_type": "code",
   "execution_count": 3,
   "id": "75efa8e7-ab6d-48c7-b8d1-cf54f72da5b8",
   "metadata": {},
   "outputs": [
    {
     "data": {
      "text/html": [
       "<div>\n",
       "<style scoped>\n",
       "    .dataframe tbody tr th:only-of-type {\n",
       "        vertical-align: middle;\n",
       "    }\n",
       "\n",
       "    .dataframe tbody tr th {\n",
       "        vertical-align: top;\n",
       "    }\n",
       "\n",
       "    .dataframe thead th {\n",
       "        text-align: right;\n",
       "    }\n",
       "</style>\n",
       "<table border=\"1\" class=\"dataframe\">\n",
       "  <thead>\n",
       "    <tr style=\"text-align: right;\">\n",
       "      <th></th>\n",
       "      <th>Two_Agreement</th>\n",
       "      <th>Distance</th>\n",
       "    </tr>\n",
       "  </thead>\n",
       "  <tbody>\n",
       "    <tr>\n",
       "      <th>0</th>\n",
       "      <td>Full_High</td>\n",
       "      <td>427</td>\n",
       "    </tr>\n",
       "    <tr>\n",
       "      <th>1</th>\n",
       "      <td>Low_No</td>\n",
       "      <td>905</td>\n",
       "    </tr>\n",
       "  </tbody>\n",
       "</table>\n",
       "</div>"
      ],
      "text/plain": [
       "  Two_Agreement  Distance\n",
       "0     Full_High       427\n",
       "1        Low_No       905"
      ]
     },
     "execution_count": 3,
     "metadata": {},
     "output_type": "execute_result"
    }
   ],
   "source": [
    "# read original dataset\n",
    "\n",
    "score_df1 = pd.read_csv('/Users/amalalmansour/Desktop/New_Images/Malignancy/machine_ratings/DF_Machine_mal_var_distance.csv')\n",
    "score_df = score_df1[['Distance','Two_Agreement']]\n",
    "#score_df = score_df1[['Score','Two_Agreement']]\n",
    "groups = score_df.groupby('Two_Agreement').count().reset_index()\n",
    "groups"
   ]
  },
  {
   "cell_type": "code",
   "execution_count": 4,
   "id": "6fda8b58-973f-462e-aa67-34fed30cc68a",
   "metadata": {},
   "outputs": [
    {
     "data": {
      "image/png": "[encoded data removed]",
      "text/plain": [
       "<Figure size 540x684 with 1 Axes>"
      ]
     },
     "metadata": {
      "needs_background": "light"
     },
     "output_type": "display_data"
    }
   ],
   "source": [
    "plt.rcParams[\"figure.figsize\"] = [7.50, 9.50]\n",
    "#plt.rcParams[\"figure.autolayout\"] = True\n",
    "#df.plot(figsize=(20,20))\n",
    "\n",
    "axes = score_df1.boxplot(by='Two_Agreement',column =['Distance'], showmeans=True, showfliers=True, grid= False)\n",
    "#axes = score_df1.boxplot(by='Two_Agreement',column =['Score'], showmeans=True, showfliers=True, grid= False)\n",
    "axes.set_title('')\n",
    "axes.set_title('')\n",
    "plt.title('')\n",
    "plt.suptitle('')\n",
    "\n",
    "\n",
    "#plt.xlabel(\" Agreement (Variance) \", fontdict={'fontsize':19})\n",
    "#plt.ylabel(\"Distance from Centroid\", fontdict={'fontsize':19})\n",
    "\n",
    "plt.ylim([0.0, 1.0])\n",
    "plt.ylabel(\"Uncertainty Scores\", fontdict={'fontsize':19})\n",
    "#plt.xlabel(\" Agreement (K-mean) \", fontdict={'fontsize':19})\n",
    "plt.xlabel(\" Agreement (Spectral) \", fontdict={'fontsize':19})\n",
    "plt.xticks([1, 2], ['Full_High', 'Low_No'], fontdict={'fontsize':19})\n",
    "plt.yticks(fontsize=18)\n",
    "plt.show()"
   ]
  },
  {
   "cell_type": "code",
   "execution_count": 5,
   "id": "0705435f-b890-48e4-bd5c-1f48b20a5649",
   "metadata": {},
   "outputs": [
    {
     "name": "stdout",
     "output_type": "stream",
     "text": [
      "Do not Reject Null Hypothesis (No significant difference between two samples)\n",
      "ttest_ind:            t = 0.51184  p = 0.608874\n",
      "mean of full_hi and mean of low_no:  m_fh = 1.05066  m_ln = 1.0364\n"
     ]
    },
    {
     "name": "stderr",
     "output_type": "stream",
     "text": [
      "/Users/amalalmansour/miniforge3/envs/env_tensorflow/lib/python3.9/site-packages/numpy/core/fromnumeric.py:3472: FutureWarning: Dropping of nuisance columns in DataFrame reductions (with 'numeric_only=None') is deprecated; in a future version this will raise TypeError.  Select only valid columns before calling the reduction.\n",
      "  return mean(axis=axis, dtype=dtype, out=out, **kwargs)\n"
     ]
    }
   ],
   "source": [
    "full_Hi = score_df.loc[score_df['Two_Agreement'] == 'Full_High']\n",
    "#full_Hi['Score']\n",
    "low_no = score_df.loc[score_df['Two_Agreement'] == 'Low_No']\n",
    "m_fh = np.mean(full_Hi)\n",
    "m_ln = np.mean(low_no)\n",
    "# Performing the paired sample t-test\n",
    "#t, p = ttest_ind(list(full_Hi['Score']), list(low_no['Score']), equal_var=False)\n",
    "t, p = ttest_ind(list(full_Hi['Distance']), list(low_no['Distance']), equal_var=False)\n",
    "alpha = 0.05\n",
    "# conclusion\n",
    "if p < alpha:\n",
    "    print('Reject Null Hypothesis (Significant difference between two samples)')\n",
    "else:\n",
    "    print('Do not Reject Null Hypothesis (No significant difference between two samples)')\n",
    "print(\"ttest_ind:            t = %g  p = %g\" % (t, p))\n",
    "print(\"mean of full_hi and mean of low_no:  m_fh = %g  m_ln = %g\" % (m_fh, m_ln))"
   ]
  },
  {
   "cell_type": "code",
   "execution_count": 6,
   "id": "e038f2b3-ec69-4ecb-af73-75e44a110faf",
   "metadata": {},
   "outputs": [
    {
     "name": "stdout",
     "output_type": "stream",
     "text": [
      "Statistics=209371.00, p=0.01\n",
      "Reject Null Hypothesis (Significant difference between two samples)\n",
      "mean of full_hi and mean of low_no:  med_fh = 0.938522  med_ln = 0.875963\n"
     ]
    },
    {
     "name": "stderr",
     "output_type": "stream",
     "text": [
      "<ipython-input-6-8ed717409baf>:13: FutureWarning: Dropping of nuisance columns in DataFrame reductions (with 'numeric_only=None') is deprecated; in a future version this will raise TypeError.  Select only valid columns before calling the reduction.\n",
      "  med_fh = full_Hi.median()\n",
      "<ipython-input-6-8ed717409baf>:14: FutureWarning: Dropping of nuisance columns in DataFrame reductions (with 'numeric_only=None') is deprecated; in a future version this will raise TypeError.  Select only valid columns before calling the reduction.\n",
      "  med_ln = low_no.median()\n"
     ]
    }
   ],
   "source": [
    "# perform mann whitney test\n",
    "#stat, p_value = mannwhitneyu(list(full_Hi['Score']), list(low_no['Score']))\n",
    "stat, p_value = mannwhitneyu(list(full_Hi['Distance']), list(low_no['Distance']))\n",
    "print('Statistics=%.2f, p=%.2f' % (stat, p_value))\n",
    "# Level of significance\n",
    "alpha = 0.05\n",
    "# conclusion\n",
    "if p_value < alpha:\n",
    "    print('Reject Null Hypothesis (Significant difference between two samples)')\n",
    "else:\n",
    "    print('Do not Reject Null Hypothesis (No significant difference between two samples)')\n",
    "# median \n",
    "med_fh = full_Hi.median()\n",
    "med_ln = low_no.median()\n",
    "print(\"mean of full_hi and mean of low_no:  med_fh = %g  med_ln = %g\" % (med_fh, med_ln))"
   ]
  },
  {
   "cell_type": "code",
   "execution_count": 44,
   "id": "fca5f1dd-2d64-4709-b7ee-85c01939eed3",
   "metadata": {},
   "outputs": [
    {
     "name": "stdout",
     "output_type": "stream",
     "text": [
      "                    Multiple Comparison of Means - Tukey HSD, FWER=0.05                     \n",
      "============================================================================================\n",
      "          group1                     group2           meandiff p-adj   lower   upper  reject\n",
      "--------------------------------------------------------------------------------------------\n",
      "    All Radiologists Agree High Radiologist Agreement  -0.1032 0.0174 -0.1934  -0.013   True\n",
      "    All Radiologists Agree  Low Radiologist Agreement  -0.1247 0.0012  -0.211 -0.0383   True\n",
      "    All Radiologists Agree   No Radiologist Agreement  -0.1245 0.0074 -0.2243 -0.0247   True\n",
      "High Radiologist Agreement  Low Radiologist Agreement  -0.0215 0.5751 -0.0652  0.0222  False\n",
      "High Radiologist Agreement   No Radiologist Agreement  -0.0214 0.8213 -0.0878  0.0451  False\n",
      " Low Radiologist Agreement   No Radiologist Agreement   0.0001    0.9  -0.061  0.0613  False\n",
      "--------------------------------------------------------------------------------------------\n"
     ]
    }
   ],
   "source": [
    "# perform multiple pairwise comparison (Tukey HSD)\n",
    "m_comp = pairwise_tukeyhsd(endog=score_df1['Score'], groups=score_df1['Agreement'], alpha=0.05)\n",
    "#m_comp = pairwise_tukeyhsd(endog=score_df1['Distance'], groups=score_df1['Agreement'], alpha=0.05)\n",
    "print(m_comp)"
   ]
  },
  {
   "cell_type": "code",
   "execution_count": 45,
   "id": "a5b0a9a8-ee95-4e98-882a-7c877967f092",
   "metadata": {},
   "outputs": [
    {
     "data": {
      "image/png": "[encoded data removed]",
      "text/plain": [
       "<Figure size 684x540 with 1 Axes>"
      ]
     },
     "metadata": {
      "needs_background": "light"
     },
     "output_type": "display_data"
    }
   ],
   "source": [
    "plt.rcParams[\"figure.figsize\"] = [9.50, 7.50]\n",
    "plt.rcParams[\"figure.autolayout\"] = True\n",
    "#df.plot(figsize=(20,20))\n",
    "\n",
    "#axes = score_df1.boxplot(by='Agreement',column =['Distance'], showmeans=True, showfliers=True, grid= False)\n",
    "axes = score_df1.boxplot(by='Agreement',column =['Score'], showmeans=True, showfliers=True, grid= False)\n",
    "axes.set_title('')\n",
    "plt.title('')\n",
    "plt.suptitle('')\n",
    "\n",
    "#plt.ylabel(\"Distance from the Centroid\", fontdict={'fontsize':19})\n",
    "#plt.xlabel(\" Agreement (Variance) \", fontdict={'fontsize':19})\n",
    "\n",
    "plt.ylim([0.0, 1.0])\n",
    "plt.ylabel(\"Uncertainty Scores\", fontdict={'fontsize':19})\n",
    "#plt.xlabel(\" Agreement (Spectral) \", fontdict={'fontsize':19})\n",
    "#plt.xlabel(\" Agreement (K-mean) \", fontdict={'fontsize':19})\n",
    "plt.xticks(fontsize=18)\n",
    "plt.yticks(fontsize=18)\n",
    "plt.xticks([1, 2, 3,4],['Full', 'High', 'Low', 'No'])\n",
    "plt.show()"
   ]
  },
  {
   "cell_type": "code",
   "execution_count": 46,
   "id": "1eafff7b-f695-43df-8098-3187d8707aac",
   "metadata": {},
   "outputs": [
    {
     "name": "stdout",
     "output_type": "stream",
     "text": [
      "[0.6497038  0.54653834 0.52503753 0.52518568]\n"
     ]
    }
   ],
   "source": [
    "#m2 = score_df1.groupby(['Agreement'])['Distance'].mean().values\n",
    "m2 = score_df1.groupby(['Agreement'])['Score'].mean().values\n",
    "print(m2)"
   ]
  },
  {
   "cell_type": "markdown",
   "id": "ae5c8721-aacd-47b5-b5ae-5687b0564366",
   "metadata": {},
   "source": [
    "#### Labels:"
   ]
  },
  {
   "cell_type": "code",
   "execution_count": 23,
   "id": "a0e5e75c-ed6b-4cb1-ba6c-d726d76c43d9",
   "metadata": {},
   "outputs": [
    {
     "name": "stdout",
     "output_type": "stream",
     "text": [
      "Multiple Comparison of Means - Tukey HSD, FWER=0.05 \n",
      "====================================================\n",
      "group1 group2 meandiff p-adj   lower   upper  reject\n",
      "----------------------------------------------------\n",
      "     0      1   0.1156  0.001  0.0688  0.1625   True\n",
      "     0      2  -0.0526 0.0014 -0.0894 -0.0159   True\n",
      "     0      3   0.0055    0.9 -0.0232  0.0342  False\n",
      "     1      2  -0.1683  0.001 -0.2147 -0.1218   True\n",
      "     1      3  -0.1101  0.001 -0.1506 -0.0697   True\n",
      "     2      3   0.0582  0.001  0.0301  0.0862   True\n",
      "----------------------------------------------------\n"
     ]
    }
   ],
   "source": [
    "# read original dataset\n",
    "#score_df2 = pd.read_csv('/Users/amalalmansour/Desktop/New_Images/Malignancy/DF_mal_max_scores.csv')\n",
    "score_df2 = score_df1[['Score','Spiculation']]\n",
    "groups = score_df2.groupby('Spiculation').count().reset_index()\n",
    "\n",
    "# perform multiple pairwise comparison (Tukey HSD)\n",
    "m_comp = pairwise_tukeyhsd(endog=score_df1['Score'], groups=score_df1['Spiculation'], alpha=0.05)\n",
    "print(m_comp)"
   ]
  },
  {
   "cell_type": "markdown",
   "id": "b9f3db55-f807-4f20-91cf-162792f9e4df",
   "metadata": {},
   "source": [
    "### CNN:"
   ]
  },
  {
   "cell_type": "markdown",
   "id": "09eaa653-7f84-4c0b-bf85-619a7257b901",
   "metadata": {},
   "source": [
    "### Radiologists Agreements:"
   ]
  },
  {
   "cell_type": "code",
   "execution_count": 7,
   "id": "f913e430-bf17-4aac-91f3-d23b1a0fdd6e",
   "metadata": {},
   "outputs": [
    {
     "ename": "FileNotFoundError",
     "evalue": "[Errno 2] No such file or directory: '/Users/amalalmansour/Desktop/New_Images/Malignancy/CNN_mal_var_distance.csv'",
     "output_type": "error",
     "traceback": [
      "\u001b[0;31m---------------------------------------------------------------------------\u001b[0m",
      "\u001b[0;31mFileNotFoundError\u001b[0m                         Traceback (most recent call last)",
      "\u001b[0;32m<ipython-input-7-60ca4eebb105>\u001b[0m in \u001b[0;36m<module>\u001b[0;34m\u001b[0m\n\u001b[1;32m      1\u001b[0m \u001b[0;31m# read original dataset\u001b[0m\u001b[0;34m\u001b[0m\u001b[0;34m\u001b[0m\u001b[0m\n\u001b[0;32m----> 2\u001b[0;31m \u001b[0mscore_CNN\u001b[0m \u001b[0;34m=\u001b[0m \u001b[0mpd\u001b[0m\u001b[0;34m.\u001b[0m\u001b[0mread_csv\u001b[0m\u001b[0;34m(\u001b[0m\u001b[0;34m'/Users/amalalmansour/Desktop/New_Images/Malignancy/CNN_mal_var_distance.csv'\u001b[0m\u001b[0;34m)\u001b[0m\u001b[0;34m\u001b[0m\u001b[0;34m\u001b[0m\u001b[0m\n\u001b[0m\u001b[1;32m      3\u001b[0m \u001b[0mscore_CNN1\u001b[0m \u001b[0;34m=\u001b[0m \u001b[0mscore_CNN\u001b[0m\u001b[0;34m[\u001b[0m\u001b[0;34m[\u001b[0m\u001b[0;34m'Distance'\u001b[0m\u001b[0;34m,\u001b[0m\u001b[0;34m'Two_Agreement'\u001b[0m\u001b[0;34m]\u001b[0m\u001b[0;34m]\u001b[0m\u001b[0;34m\u001b[0m\u001b[0;34m\u001b[0m\u001b[0m\n\u001b[1;32m      4\u001b[0m \u001b[0;31m#score_df\u001b[0m\u001b[0;34m\u001b[0m\u001b[0;34m\u001b[0m\u001b[0m\n",
      "\u001b[0;32m~/miniforge3/envs/env_tensorflow/lib/python3.9/site-packages/pandas/util/_decorators.py\u001b[0m in \u001b[0;36mwrapper\u001b[0;34m(*args, **kwargs)\u001b[0m\n\u001b[1;32m    309\u001b[0m                     \u001b[0mstacklevel\u001b[0m\u001b[0;34m=\u001b[0m\u001b[0mstacklevel\u001b[0m\u001b[0;34m,\u001b[0m\u001b[0;34m\u001b[0m\u001b[0;34m\u001b[0m\u001b[0m\n\u001b[1;32m    310\u001b[0m                 )\n\u001b[0;32m--> 311\u001b[0;31m             \u001b[0;32mreturn\u001b[0m \u001b[0mfunc\u001b[0m\u001b[0;34m(\u001b[0m\u001b[0;34m*\u001b[0m\u001b[0margs\u001b[0m\u001b[0;34m,\u001b[0m \u001b[0;34m**\u001b[0m\u001b[0mkwargs\u001b[0m\u001b[0;34m)\u001b[0m\u001b[0;34m\u001b[0m\u001b[0;34m\u001b[0m\u001b[0m\n\u001b[0m\u001b[1;32m    312\u001b[0m \u001b[0;34m\u001b[0m\u001b[0m\n\u001b[1;32m    313\u001b[0m         \u001b[0;32mreturn\u001b[0m \u001b[0mwrapper\u001b[0m\u001b[0;34m\u001b[0m\u001b[0;34m\u001b[0m\u001b[0m\n",
      "\u001b[0;32m~/miniforge3/envs/env_tensorflow/lib/python3.9/site-packages/pandas/io/parsers/readers.py\u001b[0m in \u001b[0;36mread_csv\u001b[0;34m(filepath_or_buffer, sep, delimiter, header, names, index_col, usecols, squeeze, prefix, mangle_dupe_cols, dtype, engine, converters, true_values, false_values, skipinitialspace, skiprows, skipfooter, nrows, na_values, keep_default_na, na_filter, verbose, skip_blank_lines, parse_dates, infer_datetime_format, keep_date_col, date_parser, dayfirst, cache_dates, iterator, chunksize, compression, thousands, decimal, lineterminator, quotechar, quoting, doublequote, escapechar, comment, encoding, encoding_errors, dialect, error_bad_lines, warn_bad_lines, on_bad_lines, delim_whitespace, low_memory, memory_map, float_precision, storage_options)\u001b[0m\n\u001b[1;32m    584\u001b[0m     \u001b[0mkwds\u001b[0m\u001b[0;34m.\u001b[0m\u001b[0mupdate\u001b[0m\u001b[0;34m(\u001b[0m\u001b[0mkwds_defaults\u001b[0m\u001b[0;34m)\u001b[0m\u001b[0;34m\u001b[0m\u001b[0;34m\u001b[0m\u001b[0m\n\u001b[1;32m    585\u001b[0m \u001b[0;34m\u001b[0m\u001b[0m\n\u001b[0;32m--> 586\u001b[0;31m     \u001b[0;32mreturn\u001b[0m \u001b[0m_read\u001b[0m\u001b[0;34m(\u001b[0m\u001b[0mfilepath_or_buffer\u001b[0m\u001b[0;34m,\u001b[0m \u001b[0mkwds\u001b[0m\u001b[0;34m)\u001b[0m\u001b[0;34m\u001b[0m\u001b[0;34m\u001b[0m\u001b[0m\n\u001b[0m\u001b[1;32m    587\u001b[0m \u001b[0;34m\u001b[0m\u001b[0m\n\u001b[1;32m    588\u001b[0m \u001b[0;34m\u001b[0m\u001b[0m\n",
      "\u001b[0;32m~/miniforge3/envs/env_tensorflow/lib/python3.9/site-packages/pandas/io/parsers/readers.py\u001b[0m in \u001b[0;36m_read\u001b[0;34m(filepath_or_buffer, kwds)\u001b[0m\n\u001b[1;32m    480\u001b[0m \u001b[0;34m\u001b[0m\u001b[0m\n\u001b[1;32m    481\u001b[0m     \u001b[0;31m# Create the parser.\u001b[0m\u001b[0;34m\u001b[0m\u001b[0;34m\u001b[0m\u001b[0m\n\u001b[0;32m--> 482\u001b[0;31m     \u001b[0mparser\u001b[0m \u001b[0;34m=\u001b[0m \u001b[0mTextFileReader\u001b[0m\u001b[0;34m(\u001b[0m\u001b[0mfilepath_or_buffer\u001b[0m\u001b[0;34m,\u001b[0m \u001b[0;34m**\u001b[0m\u001b[0mkwds\u001b[0m\u001b[0;34m)\u001b[0m\u001b[0;34m\u001b[0m\u001b[0;34m\u001b[0m\u001b[0m\n\u001b[0m\u001b[1;32m    483\u001b[0m \u001b[0;34m\u001b[0m\u001b[0m\n\u001b[1;32m    484\u001b[0m     \u001b[0;32mif\u001b[0m \u001b[0mchunksize\u001b[0m \u001b[0;32mor\u001b[0m \u001b[0miterator\u001b[0m\u001b[0;34m:\u001b[0m\u001b[0;34m\u001b[0m\u001b[0;34m\u001b[0m\u001b[0m\n",
      "\u001b[0;32m~/miniforge3/envs/env_tensorflow/lib/python3.9/site-packages/pandas/io/parsers/readers.py\u001b[0m in \u001b[0;36m__init__\u001b[0;34m(self, f, engine, **kwds)\u001b[0m\n\u001b[1;32m    809\u001b[0m             \u001b[0mself\u001b[0m\u001b[0;34m.\u001b[0m\u001b[0moptions\u001b[0m\u001b[0;34m[\u001b[0m\u001b[0;34m\"has_index_names\"\u001b[0m\u001b[0;34m]\u001b[0m \u001b[0;34m=\u001b[0m \u001b[0mkwds\u001b[0m\u001b[0;34m[\u001b[0m\u001b[0;34m\"has_index_names\"\u001b[0m\u001b[0;34m]\u001b[0m\u001b[0;34m\u001b[0m\u001b[0;34m\u001b[0m\u001b[0m\n\u001b[1;32m    810\u001b[0m \u001b[0;34m\u001b[0m\u001b[0m\n\u001b[0;32m--> 811\u001b[0;31m         \u001b[0mself\u001b[0m\u001b[0;34m.\u001b[0m\u001b[0m_engine\u001b[0m \u001b[0;34m=\u001b[0m \u001b[0mself\u001b[0m\u001b[0;34m.\u001b[0m\u001b[0m_make_engine\u001b[0m\u001b[0;34m(\u001b[0m\u001b[0mself\u001b[0m\u001b[0;34m.\u001b[0m\u001b[0mengine\u001b[0m\u001b[0;34m)\u001b[0m\u001b[0;34m\u001b[0m\u001b[0;34m\u001b[0m\u001b[0m\n\u001b[0m\u001b[1;32m    812\u001b[0m \u001b[0;34m\u001b[0m\u001b[0m\n\u001b[1;32m    813\u001b[0m     \u001b[0;32mdef\u001b[0m \u001b[0mclose\u001b[0m\u001b[0;34m(\u001b[0m\u001b[0mself\u001b[0m\u001b[0;34m)\u001b[0m\u001b[0;34m:\u001b[0m\u001b[0;34m\u001b[0m\u001b[0;34m\u001b[0m\u001b[0m\n",
      "\u001b[0;32m~/miniforge3/envs/env_tensorflow/lib/python3.9/site-packages/pandas/io/parsers/readers.py\u001b[0m in \u001b[0;36m_make_engine\u001b[0;34m(self, engine)\u001b[0m\n\u001b[1;32m   1038\u001b[0m             )\n\u001b[1;32m   1039\u001b[0m         \u001b[0;31m# error: Too many arguments for \"ParserBase\"\u001b[0m\u001b[0;34m\u001b[0m\u001b[0;34m\u001b[0m\u001b[0m\n\u001b[0;32m-> 1040\u001b[0;31m         \u001b[0;32mreturn\u001b[0m \u001b[0mmapping\u001b[0m\u001b[0;34m[\u001b[0m\u001b[0mengine\u001b[0m\u001b[0;34m]\u001b[0m\u001b[0;34m(\u001b[0m\u001b[0mself\u001b[0m\u001b[0;34m.\u001b[0m\u001b[0mf\u001b[0m\u001b[0;34m,\u001b[0m \u001b[0;34m**\u001b[0m\u001b[0mself\u001b[0m\u001b[0;34m.\u001b[0m\u001b[0moptions\u001b[0m\u001b[0;34m)\u001b[0m  \u001b[0;31m# type: ignore[call-arg]\u001b[0m\u001b[0;34m\u001b[0m\u001b[0;34m\u001b[0m\u001b[0m\n\u001b[0m\u001b[1;32m   1041\u001b[0m \u001b[0;34m\u001b[0m\u001b[0m\n\u001b[1;32m   1042\u001b[0m     \u001b[0;32mdef\u001b[0m \u001b[0m_failover_to_python\u001b[0m\u001b[0;34m(\u001b[0m\u001b[0mself\u001b[0m\u001b[0;34m)\u001b[0m\u001b[0;34m:\u001b[0m\u001b[0;34m\u001b[0m\u001b[0;34m\u001b[0m\u001b[0m\n",
      "\u001b[0;32m~/miniforge3/envs/env_tensorflow/lib/python3.9/site-packages/pandas/io/parsers/c_parser_wrapper.py\u001b[0m in \u001b[0;36m__init__\u001b[0;34m(self, src, **kwds)\u001b[0m\n\u001b[1;32m     49\u001b[0m \u001b[0;34m\u001b[0m\u001b[0m\n\u001b[1;32m     50\u001b[0m         \u001b[0;31m# open handles\u001b[0m\u001b[0;34m\u001b[0m\u001b[0;34m\u001b[0m\u001b[0m\n\u001b[0;32m---> 51\u001b[0;31m         \u001b[0mself\u001b[0m\u001b[0;34m.\u001b[0m\u001b[0m_open_handles\u001b[0m\u001b[0;34m(\u001b[0m\u001b[0msrc\u001b[0m\u001b[0;34m,\u001b[0m \u001b[0mkwds\u001b[0m\u001b[0;34m)\u001b[0m\u001b[0;34m\u001b[0m\u001b[0;34m\u001b[0m\u001b[0m\n\u001b[0m\u001b[1;32m     52\u001b[0m         \u001b[0;32massert\u001b[0m \u001b[0mself\u001b[0m\u001b[0;34m.\u001b[0m\u001b[0mhandles\u001b[0m \u001b[0;32mis\u001b[0m \u001b[0;32mnot\u001b[0m \u001b[0;32mNone\u001b[0m\u001b[0;34m\u001b[0m\u001b[0;34m\u001b[0m\u001b[0m\n\u001b[1;32m     53\u001b[0m \u001b[0;34m\u001b[0m\u001b[0m\n",
      "\u001b[0;32m~/miniforge3/envs/env_tensorflow/lib/python3.9/site-packages/pandas/io/parsers/base_parser.py\u001b[0m in \u001b[0;36m_open_handles\u001b[0;34m(self, src, kwds)\u001b[0m\n\u001b[1;32m    220\u001b[0m         \u001b[0mLet\u001b[0m \u001b[0mthe\u001b[0m \u001b[0mreaders\u001b[0m \u001b[0mopen\u001b[0m \u001b[0mIOHandles\u001b[0m \u001b[0mafter\u001b[0m \u001b[0mthey\u001b[0m \u001b[0mare\u001b[0m \u001b[0mdone\u001b[0m \u001b[0;32mwith\u001b[0m \u001b[0mtheir\u001b[0m \u001b[0mpotential\u001b[0m \u001b[0mraises\u001b[0m\u001b[0;34m.\u001b[0m\u001b[0;34m\u001b[0m\u001b[0;34m\u001b[0m\u001b[0m\n\u001b[1;32m    221\u001b[0m         \"\"\"\n\u001b[0;32m--> 222\u001b[0;31m         self.handles = get_handle(\n\u001b[0m\u001b[1;32m    223\u001b[0m             \u001b[0msrc\u001b[0m\u001b[0;34m,\u001b[0m\u001b[0;34m\u001b[0m\u001b[0;34m\u001b[0m\u001b[0m\n\u001b[1;32m    224\u001b[0m             \u001b[0;34m\"r\"\u001b[0m\u001b[0;34m,\u001b[0m\u001b[0;34m\u001b[0m\u001b[0;34m\u001b[0m\u001b[0m\n",
      "\u001b[0;32m~/miniforge3/envs/env_tensorflow/lib/python3.9/site-packages/pandas/io/common.py\u001b[0m in \u001b[0;36mget_handle\u001b[0;34m(path_or_buf, mode, encoding, compression, memory_map, is_text, errors, storage_options)\u001b[0m\n\u001b[1;32m    700\u001b[0m         \u001b[0;32mif\u001b[0m \u001b[0mioargs\u001b[0m\u001b[0;34m.\u001b[0m\u001b[0mencoding\u001b[0m \u001b[0;32mand\u001b[0m \u001b[0;34m\"b\"\u001b[0m \u001b[0;32mnot\u001b[0m \u001b[0;32min\u001b[0m \u001b[0mioargs\u001b[0m\u001b[0;34m.\u001b[0m\u001b[0mmode\u001b[0m\u001b[0;34m:\u001b[0m\u001b[0;34m\u001b[0m\u001b[0;34m\u001b[0m\u001b[0m\n\u001b[1;32m    701\u001b[0m             \u001b[0;31m# Encoding\u001b[0m\u001b[0;34m\u001b[0m\u001b[0;34m\u001b[0m\u001b[0m\n\u001b[0;32m--> 702\u001b[0;31m             handle = open(\n\u001b[0m\u001b[1;32m    703\u001b[0m                 \u001b[0mhandle\u001b[0m\u001b[0;34m,\u001b[0m\u001b[0;34m\u001b[0m\u001b[0;34m\u001b[0m\u001b[0m\n\u001b[1;32m    704\u001b[0m                 \u001b[0mioargs\u001b[0m\u001b[0;34m.\u001b[0m\u001b[0mmode\u001b[0m\u001b[0;34m,\u001b[0m\u001b[0;34m\u001b[0m\u001b[0;34m\u001b[0m\u001b[0m\n",
      "\u001b[0;31mFileNotFoundError\u001b[0m: [Errno 2] No such file or directory: '/Users/amalalmansour/Desktop/New_Images/Malignancy/CNN_mal_var_distance.csv'"
     ]
    }
   ],
   "source": [
    "# read original dataset\n",
    "score_CNN = pd.read_csv('/Users/amalalmansour/Desktop/New_Images/Malignancy/CNN_mal_var_distance.csv')\n",
    "score_CNN1 = score_CNN[['Distance','Two_Agreement']]\n",
    "#score_df"
   ]
  },
  {
   "cell_type": "code",
   "execution_count": null,
   "id": "2c9af823-8dda-4a0d-ae6a-68c9a1b85595",
   "metadata": {},
   "outputs": [],
   "source": [
    "groups = score_CNN1.groupby('Two_Agreement').count().reset_index()\n",
    "groups"
   ]
  },
  {
   "cell_type": "code",
   "execution_count": null,
   "id": "5e9b5fc4-7996-4302-81e7-4f4289f6ade0",
   "metadata": {},
   "outputs": [],
   "source": [
    "full_Hi = score_CNN1.loc[score_CNN1['Two_Agreement'] == 'Full_High']\n",
    "#full_Hi['Score']\n",
    "low_no = score_CNN1.loc[score_CNN1['Two_Agreement'] == 'Low_No']"
   ]
  },
  {
   "cell_type": "code",
   "execution_count": null,
   "id": "4712cc8b-a0c1-4985-a534-001342278f77",
   "metadata": {},
   "outputs": [],
   "source": [
    "m_fh = np.mean(full_Hi)\n",
    "m_ln = np.mean(low_no)\n",
    "# Performing the paired sample t-test\n",
    "t, p = ttest_ind(list(full_Hi['Distance']), list(low_no['Distance']), equal_var=False)\n",
    "print(\"ttest_ind:            t = %g  p = %g\" % (t, p))\n",
    "print(\"mean of full_hi and mean of low_no:  m_fh = %g  m_ln = %g\" % (m_fh, m_ln))"
   ]
  },
  {
   "cell_type": "code",
   "execution_count": null,
   "id": "612d6821-5ffc-4164-add4-71b14e5759ef",
   "metadata": {},
   "outputs": [],
   "source": [
    "# perform mann whitney test\n",
    "stat, p_value = mannwhitneyu(list(full_Hi['Distance']), list(low_no['Distance']))\n",
    "print('Statistics=%.2f, p=%.2f' % (stat, p_value))\n",
    "# Level of significance\n",
    "alpha = 0.05\n",
    "# conclusion\n",
    "if p_value < alpha:\n",
    "    print('Reject Null Hypothesis (Significant difference between two samples)')\n",
    "else:\n",
    "    print('Do not Reject Null Hypothesis (No significant difference between two samples)')\n",
    "# median \n",
    "med_fh = full_Hi.median()\n",
    "med_ln = low_no.median()\n",
    "print(\"mean of full_hi and mean of low_no:  med_fh = %g  med_ln = %g\" % (med_fh, med_ln))"
   ]
  },
  {
   "cell_type": "code",
   "execution_count": null,
   "id": "9378ceab-8863-4103-ab9d-91976c959b72",
   "metadata": {},
   "outputs": [],
   "source": [
    "# perform multiple pairwise comparison (Tukey HSD)\n",
    "m_comp = pairwise_tukeyhsd(endog=score_CNN['Distance'], groups=score_CNN['Agreement'], alpha=0.05)\n",
    "print(m_comp)\n",
    "# The means are different between high & low."
   ]
  },
  {
   "cell_type": "markdown",
   "id": "d513e147-03a7-42a8-91fb-3f60b4af8a0a",
   "metadata": {},
   "source": [
    "### Labels:"
   ]
  },
  {
   "cell_type": "code",
   "execution_count": null,
   "id": "61a8d853-058d-45b6-84e8-f2f04b0123f1",
   "metadata": {},
   "outputs": [],
   "source": [
    "# read original dataset\n",
    "'''score_CNN_label1 = score_CNN[['Score','Spiculation']]\n",
    "groups = score_CNN_label1.groupby('Spiculation').count().reset_index()\n",
    "# perform multiple pairwise comparison (Tukey HSD)\n",
    "m_comp = pairwise_tukeyhsd(endog=score_CNN['Score'], groups=score_CNN['Spiculation'], alpha=0.05)\n",
    "print(m_comp)'''"
   ]
  },
  {
   "cell_type": "markdown",
   "id": "0007eaeb-6014-4552-8c74-b8ea5f736cc8",
   "metadata": {},
   "source": [
    "### SCNN:"
   ]
  },
  {
   "cell_type": "code",
   "execution_count": null,
   "id": "add71703-984f-4625-a6c0-4cc7fb5cda34",
   "metadata": {},
   "outputs": [],
   "source": [
    "# read original dataset\n",
    "score_SCNN = pd.read_csv('/Users/amalalmansour/Desktop/New_Images/Malignancy/SCNN_mal_var_distance.csv')\n",
    "score_SCNN1 = score_SCNN[['Distance','Two_Agreement']]\n",
    "groups = score_SCNN1.groupby('Two_Agreement').count().reset_index()\n",
    "groups"
   ]
  },
  {
   "cell_type": "code",
   "execution_count": null,
   "id": "11544f8e-ad15-48a2-9abc-0678f83d017d",
   "metadata": {},
   "outputs": [],
   "source": [
    "full_Hi = score_SCNN1.loc[score_SCNN1['Two_Agreement'] == 'Full_High']\n",
    "#full_Hi['Score']\n",
    "low_no = score_SCNN1.loc[score_SCNN1['Two_Agreement'] == 'Low_No']\n",
    "m_fh = np.mean(full_Hi)\n",
    "m_ln = np.mean(low_no)\n",
    "# Performing the paired sample t-test\n",
    "t, p = ttest_ind(list(full_Hi['Distance']), list(low_no['Distance']), equal_var=False)\n",
    "# Level of significance\n",
    "alpha = 0.05\n",
    "# conclusion\n",
    "if p < alpha:\n",
    "    print('Reject Null Hypothesis (Significant difference between two samples)')\n",
    "else:\n",
    "    print('Do not Reject Null Hypothesis (No significant difference between two samples)')\n",
    "print(\"ttest_ind:            t = %g  p = %g\" % (t, p))\n",
    "print(\"mean of full_hi and mean of low_no:  m_fh = %g  m_ln = %g\" % (m_fh, m_ln))"
   ]
  },
  {
   "cell_type": "code",
   "execution_count": null,
   "id": "68013501-607a-46bc-beb5-4c9b050d074d",
   "metadata": {},
   "outputs": [],
   "source": [
    "# perform mann whitney test\n",
    "stat, p_value = mannwhitneyu(list(full_Hi['Distance']), list(low_no['Distance']))\n",
    "print('Statistics=%.2f, p=%.2f' % (stat, p_value))\n",
    "# Level of significance\n",
    "alpha = 0.05\n",
    "# conclusion\n",
    "if p_value < alpha:\n",
    "    print('Reject Null Hypothesis (Significant difference between two samples)')\n",
    "else:\n",
    "    print('Do not Reject Null Hypothesis (No significant difference between two samples)')\n",
    "# median \n",
    "med_fh = full_Hi.median()\n",
    "med_ln = low_no.median()\n",
    "print(\"mean of full_hi and mean of low_no:  med_fh = %g  med_ln = %g\" % (med_fh, med_ln))"
   ]
  },
  {
   "cell_type": "code",
   "execution_count": null,
   "id": "1866367f-ad1f-4c9f-9eed-24859d36d176",
   "metadata": {},
   "outputs": [],
   "source": [
    "# perform multiple pairwise comparison (Tukey HSD)\n",
    "m_comp = pairwise_tukeyhsd(endog=score_SCNN['Distance'], groups=score_SCNN['Agreement'], alpha=0.05)\n",
    "print(m_comp) \n",
    "#### The means are equal in SCNN. "
   ]
  },
  {
   "cell_type": "code",
   "execution_count": null,
   "id": "748d8f3e-4a4b-43d9-9888-4a0c81fae032",
   "metadata": {},
   "outputs": [],
   "source": [
    "# perform multiple pairwise comparison (Tukey HSD)\n",
    "#m_comp = pairwise_tukeyhsd(endog=score_SCNN['Score'], groups=score_SCNN['Spiculation'], alpha=0.05)\n",
    "#print(m_comp) \n",
    "#### The means are equal in SCNN. "
   ]
  },
  {
   "cell_type": "markdown",
   "id": "564b92b7-51ad-470c-9fbe-4cc7804f3f92",
   "metadata": {},
   "source": [
    "### Sigma VAE: "
   ]
  },
  {
   "cell_type": "code",
   "execution_count": null,
   "id": "ee51ba47-f578-458c-b5fb-d0efba4c1160",
   "metadata": {},
   "outputs": [],
   "source": [
    "# read original dataset\n",
    "score_VAE = pd.read_csv('/Users/amalalmansour/Desktop/New_Images/Malignancy/AE_mal_var_distance.csv')\n",
    "score_VAE1 = score_VAE[['Distance','Two_Agreement']]\n",
    "groups = score_VAE1.groupby('Two_Agreement').count().reset_index()\n",
    "groups"
   ]
  },
  {
   "cell_type": "code",
   "execution_count": null,
   "id": "6ced0b81-f336-4fe7-8c53-327efacd158d",
   "metadata": {},
   "outputs": [],
   "source": [
    "full_Hi = score_VAE1.loc[score_VAE1['Two_Agreement'] == 'Full_High']\n",
    "#full_Hi['Score']\n",
    "low_no = score_VAE1.loc[score_VAE1['Two_Agreement'] == 'Low_No']\n",
    "m_fh = np.mean(full_Hi)\n",
    "m_ln = np.mean(low_no)\n",
    "# Performing the paired sample t-test\n",
    "t, p = ttest_ind(list(full_Hi['Distance']), list(low_no['Distance']), equal_var=False)\n",
    "print(\"ttest_ind:            t = %g  p = %g\" % (t, p))\n",
    "print(\"mean of full_hi and mean of low_no:  m_fh = %g  m_ln = %g\" % (m_fh, m_ln))"
   ]
  },
  {
   "cell_type": "code",
   "execution_count": null,
   "id": "de2cde62-9d96-4d0b-8114-45f88d6fad4f",
   "metadata": {},
   "outputs": [],
   "source": [
    "# perform mann whitney test\n",
    "stat, p_value = mannwhitneyu(list(full_Hi['Distance']), list(low_no['Distance']))\n",
    "print('Statistics=%.2f, p=%.2f' % (stat, p_value))\n",
    "# Level of significance\n",
    "alpha = 0.05\n",
    "# conclusion\n",
    "if p_value < alpha:\n",
    "    print('Reject Null Hypothesis (Significant difference between two samples)')\n",
    "else:\n",
    "    print('Do not Reject Null Hypothesis (No significant difference between two samples)')\n",
    "# median \n",
    "med_fh = full_Hi.median()\n",
    "med_ln = low_no.median()\n",
    "print(\"mean of full_hi and mean of low_no:  med_fh = %g  med_ln = %g\" % (med_fh, med_ln))"
   ]
  },
  {
   "cell_type": "code",
   "execution_count": null,
   "id": "1d6bfbaf-a677-4e42-ba76-bc5c7b53e513",
   "metadata": {},
   "outputs": [],
   "source": [
    "# perform multiple pairwise comparison (Tukey HSD)\n",
    "m_comp = pairwise_tukeyhsd(endog=score_VAE['Distance'], groups=score_VAE['Agreement'], alpha=0.05)\n",
    "print(m_comp) \n",
    "#### The means are equal between low & no in VAE. "
   ]
  },
  {
   "cell_type": "code",
   "execution_count": null,
   "id": "5ba1d30c-8fab-46be-b262-ea2147bffc12",
   "metadata": {},
   "outputs": [],
   "source": [
    "# perform multiple pairwise comparison (Tukey HSD)\n",
    "#m_comp = pairwise_tukeyhsd(endog=score_VAE['Score'], groups=score_VAE['Spiculation'], alpha=0.05)\n",
    "#print(m_comp) "
   ]
  },
  {
   "cell_type": "markdown",
   "id": "0dae9b45-0042-4fd3-8b39-d66a9ccc0018",
   "metadata": {
    "tags": []
   },
   "source": [
    "# ---------------------------------- "
   ]
  },
  {
   "cell_type": "markdown",
   "id": "e7978738-0487-4957-aacf-86b83a48b1f8",
   "metadata": {},
   "source": [
    "## Spiculation:"
   ]
  },
  {
   "cell_type": "markdown",
   "id": "1cf31fa7-4d99-4068-a2f2-05646bdfc6dd",
   "metadata": {},
   "source": [
    "### Designed Features:"
   ]
  },
  {
   "cell_type": "markdown",
   "id": "daf16845-da53-47ac-b952-d7cac20ed42c",
   "metadata": {},
   "source": [
    "#### Radiologists' Agreements"
   ]
  },
  {
   "cell_type": "code",
   "execution_count": null,
   "id": "1e2d903c-31b1-42e2-9843-53384404f131",
   "metadata": {},
   "outputs": [],
   "source": [
    "# read original dataset\n",
    "score_df3 = pd.read_csv('/Users/amalalmansour/Desktop/New_Images/Spiculation/DF_spic_var_distance.csv')\n",
    "score_df33 = score_df3[['Distance','Two_Agreement']]\n",
    "groups = score_df33.groupby('Two_Agreement').count().reset_index()\n",
    "groups"
   ]
  },
  {
   "cell_type": "code",
   "execution_count": null,
   "id": "ae48d486-0293-4ad4-8bf5-73fc28f66951",
   "metadata": {},
   "outputs": [],
   "source": [
    "full_Hi = score_df33.loc[score_df33['Two_Agreement'] == 'Full_High']\n",
    "#full_Hi['Score']\n",
    "low_no = score_df33.loc[score_df33['Two_Agreement'] == 'Low_No']\n",
    "m_fh = np.mean(full_Hi)\n",
    "m_ln = np.mean(low_no)\n",
    "# Performing the paired sample t-test\n",
    "t, p = ttest_ind(list(full_Hi['Distance']), list(low_no['Distance']), equal_var=False)\n",
    "print(\"ttest_ind:            t = %g  p = %g\" % (t, p))\n",
    "print(\"mean of full_hi and mean of low_no:  m_fh = %g  m_ln = %g\" % (m_fh, m_ln))"
   ]
  },
  {
   "cell_type": "code",
   "execution_count": null,
   "id": "60b54cff-98e1-4137-a2d2-32ac043c14b9",
   "metadata": {},
   "outputs": [],
   "source": [
    "# perform mann whitney test\n",
    "stat, p_value = mannwhitneyu(list(full_Hi['Distance']), list(low_no['Distance']))\n",
    "print('Statistics=%.2f, p=%.2f' % (stat, p_value))\n",
    "# Level of significance\n",
    "alpha = 0.05\n",
    "# conclusion\n",
    "if p_value < alpha:\n",
    "    print('Reject Null Hypothesis (Significant difference between two samples)')\n",
    "else:\n",
    "    print('Do not Reject Null Hypothesis (No significant difference between two samples)')\n",
    "# median \n",
    "med_fh = full_Hi.median()\n",
    "med_ln = low_no.median()\n",
    "print(\"mean of full_hi and mean of low_no:  med_fh = %g  med_ln = %g\" % (med_fh, med_ln))"
   ]
  },
  {
   "cell_type": "code",
   "execution_count": null,
   "id": "22eb02ff-9f16-42bb-8e96-6e7253ecc5db",
   "metadata": {},
   "outputs": [],
   "source": [
    "# perform multiple pairwise comparison (Tukey HSD)\n",
    "m_comp = pairwise_tukeyhsd(endog=score_df3['Distance'], groups=score_df3['Agreement'], alpha=0.05)\n",
    "print(m_comp)"
   ]
  },
  {
   "cell_type": "code",
   "execution_count": null,
   "id": "dc6a6cea-21cf-4aa5-86dc-237a9c4224cc",
   "metadata": {},
   "outputs": [],
   "source": [
    "# perform multiple pairwise comparison (Tukey HSD)\n",
    "#m_comp = pairwise_tukeyhsd(endog=score_df3['Score'], groups=score_df3['Spiculation'], alpha=0.05)\n",
    "#print(m_comp)\n",
    "# All means are different"
   ]
  },
  {
   "cell_type": "markdown",
   "id": "88c82065-5e7e-4676-aa3a-2be453f55a40",
   "metadata": {},
   "source": [
    "### CNN:"
   ]
  },
  {
   "cell_type": "code",
   "execution_count": null,
   "id": "a4a059eb-ef8d-4d3f-b222-d00f34b3e34a",
   "metadata": {},
   "outputs": [],
   "source": [
    "# read original dataset\n",
    "score_CNN_Spic = pd.read_csv('/Users/amalalmansour/Desktop/New_Images/Spiculation/CNN_spic_var_distance.csv')\n",
    "score_CNN_Spic1 = score_CNN_Spic[['Distance','Two_Agreement']]\n",
    "groups = score_CNN_Spic1.groupby('Two_Agreement').count().reset_index()\n",
    "groups"
   ]
  },
  {
   "cell_type": "code",
   "execution_count": null,
   "id": "1cdc4a3c-9d83-4047-a596-b3f92d724bec",
   "metadata": {},
   "outputs": [],
   "source": [
    "full_Hi = score_CNN_Spic1.loc[score_CNN_Spic1['Two_Agreement'] == 'Full_High']\n",
    "#full_Hi['Score']\n",
    "low_no = score_CNN_Spic1.loc[score_CNN_Spic1['Two_Agreement'] == 'Low_No']\n",
    "m_fh = np.mean(full_Hi)\n",
    "m_ln = np.mean(low_no)\n",
    "# Performing the paired sample t-test\n",
    "t, p = ttest_ind(list(full_Hi['Distance']), list(low_no['Distance']), equal_var=False)\n",
    "print(\"ttest_ind:            t = %g  p = %g\" % (t, p))\n",
    "print(\"mean of full_hi and mean of low_no:  m_fh = %g  m_ln = %g\" % (m_fh, m_ln))"
   ]
  },
  {
   "cell_type": "code",
   "execution_count": null,
   "id": "e174deaf-652a-47d3-9690-0fe14bc54929",
   "metadata": {},
   "outputs": [],
   "source": [
    "# perform mann whitney test\n",
    "stat, p_value = mannwhitneyu(list(full_Hi['Distance']), list(low_no['Distance']))\n",
    "print('Statistics=%.2f, p=%.2f' % (stat, p_value))\n",
    "# Level of significance\n",
    "alpha = 0.05\n",
    "# conclusion\n",
    "if p_value < alpha:\n",
    "    print('Reject Null Hypothesis (Significant difference between two samples)')\n",
    "else:\n",
    "    print('Do not Reject Null Hypothesis (No significant difference between two samples)')\n",
    "# median \n",
    "med_fh = full_Hi.median()\n",
    "med_ln = low_no.median()\n",
    "print(\"mean of full_hi and mean of low_no:  med_fh = %g  med_ln = %g\" % (med_fh, med_ln))"
   ]
  },
  {
   "cell_type": "code",
   "execution_count": null,
   "id": "0c2d044a-fa37-4646-9892-f53e18262e0c",
   "metadata": {},
   "outputs": [],
   "source": [
    "# perform multiple pairwise comparison (Tukey HSD)\n",
    "m_comp = pairwise_tukeyhsd(endog=score_CNN_Spic['Distance'], groups=score_CNN_Spic['Agreement'], alpha=0.05)\n",
    "print(m_comp)"
   ]
  },
  {
   "cell_type": "code",
   "execution_count": null,
   "id": "436d1130-3947-4bbf-b448-6e9cc4534c3e",
   "metadata": {},
   "outputs": [],
   "source": [
    "# perform multiple pairwise comparison (Tukey HSD)\n",
    "#m_comp = pairwise_tukeyhsd(endog=score_CNN_Spic['Score'], groups=score_CNN_Spic['Spiculation'], alpha=0.05)\n",
    "#print(m_comp)"
   ]
  },
  {
   "cell_type": "markdown",
   "id": "9c050a21-46e8-40bc-a3cf-16a92e1b464b",
   "metadata": {},
   "source": [
    "### SCNN:"
   ]
  },
  {
   "cell_type": "code",
   "execution_count": null,
   "id": "e70b5f41-e417-4892-8164-3dd9576da3fd",
   "metadata": {},
   "outputs": [],
   "source": [
    "# read original dataset\n",
    "score_SCNN_spic = pd.read_csv('/Users/amalalmansour/Desktop/New_Images/Spiculation/SCNN_spic_var_distance.csv')\n",
    "score_SCNN_spic1 = score_SCNN_spic[['Distance','Two_Agreement']]\n",
    "groups = score_SCNN_spic1.groupby('Two_Agreement').count().reset_index()\n",
    "groups"
   ]
  },
  {
   "cell_type": "code",
   "execution_count": null,
   "id": "7615ec8c-b882-494d-9d26-1c1ed28172d5",
   "metadata": {},
   "outputs": [],
   "source": [
    "full_Hi = score_SCNN_spic1.loc[score_SCNN_spic1['Two_Agreement'] == 'Full_High']\n",
    "#full_Hi['Score']\n",
    "low_no = score_SCNN_spic1.loc[score_SCNN_spic1['Two_Agreement'] == 'Low_No']\n",
    "m_fh = np.mean(full_Hi)\n",
    "m_ln = np.mean(low_no)\n",
    "# Performing the paired sample t-test\n",
    "t, p = ttest_ind(list(full_Hi['Distance']), list(low_no['Distance']), equal_var=False)\n",
    "print(\"ttest_ind:            t = %g  p = %g\" % (t, p))\n",
    "print(\"mean of full_hi and mean of low_no:  m_fh = %g  m_ln = %g\" % (m_fh, m_ln))"
   ]
  },
  {
   "cell_type": "code",
   "execution_count": null,
   "id": "8e7abf81-0c55-4444-a689-803d3ad8ed5f",
   "metadata": {},
   "outputs": [],
   "source": [
    "# perform mann whitney test\n",
    "stat, p_value = mannwhitneyu(list(full_Hi['Distance']), list(low_no['Distance']))\n",
    "print('Statistics=%.2f, p=%.2f' % (stat, p_value))\n",
    "# Level of significance\n",
    "alpha = 0.05\n",
    "# conclusion\n",
    "if p_value < alpha:\n",
    "    print('Reject Null Hypothesis (Significant difference between two samples)')\n",
    "else:\n",
    "    print('Do not Reject Null Hypothesis (No significant difference between two samples)')\n",
    "# median \n",
    "med_fh = full_Hi.median()\n",
    "med_ln = low_no.median()\n",
    "print(\"mean of full_hi and mean of low_no:  med_fh = %g  med_ln = %g\" % (med_fh, med_ln))"
   ]
  },
  {
   "cell_type": "code",
   "execution_count": null,
   "id": "d897cc96-75d7-4166-bf4e-e13cd39fb513",
   "metadata": {},
   "outputs": [],
   "source": [
    "# perform multiple pairwise comparison (Tukey HSD)\n",
    "m_comp = pairwise_tukeyhsd(endog=score_SCNN_spic['Distance'], groups=score_SCNN_spic['Agreement'], alpha=0.05)\n",
    "print(m_comp)"
   ]
  },
  {
   "cell_type": "code",
   "execution_count": null,
   "id": "79846f99-26fc-431c-8de7-c3176841a415",
   "metadata": {},
   "outputs": [],
   "source": [
    "# perform multiple pairwise comparison (Tukey HSD)\n",
    "#m_comp = pairwise_tukeyhsd(endog=score_SCNN_spic['Score'], groups=score_SCNN_spic['Spiculation'], alpha=0.05)\n",
    "#print(m_comp)"
   ]
  },
  {
   "cell_type": "markdown",
   "id": "7a83fcc3-75aa-4e99-b303-35658d69b4f8",
   "metadata": {},
   "source": [
    "### Sigma VAE:"
   ]
  },
  {
   "cell_type": "code",
   "execution_count": null,
   "id": "bbe7d85a-9189-4ff0-94d0-0ec690f742b4",
   "metadata": {},
   "outputs": [],
   "source": [
    "# read original dataset\n",
    "score_VAE_Spic = pd.read_csv('/Users/amalalmansour/Desktop/New_Images/Spiculation/AE_spic_var_distance.csv')\n",
    "score_VAE_Spic1 = score_VAE_Spic[['Distance','Two_Agreement']]\n",
    "groups = score_VAE_Spic1.groupby('Two_Agreement').count().reset_index()\n",
    "groups"
   ]
  },
  {
   "cell_type": "code",
   "execution_count": null,
   "id": "69b4bb23-2cb7-4e04-a4c6-0879acb6699b",
   "metadata": {},
   "outputs": [],
   "source": [
    "full_Hi = score_VAE_Spic1.loc[score_VAE_Spic1['Two_Agreement'] == 'Full_High']\n",
    "#full_Hi['Score']\n",
    "low_no = score_VAE_Spic1.loc[score_VAE_Spic1['Two_Agreement'] == 'Low_No']\n",
    "m_fh = np.mean(full_Hi)\n",
    "m_ln = np.mean(low_no)\n",
    "# Performing the paired sample t-test\n",
    "t, p = ttest_ind(list(full_Hi['Distance']), list(low_no['Distance']), equal_var=False)\n",
    "print(\"ttest_ind:            t = %g  p = %g\" % (t, p))\n",
    "print(\"mean of full_hi and mean of low_no:  m_fh = %g  m_ln = %g\" % (m_fh, m_ln))"
   ]
  },
  {
   "cell_type": "code",
   "execution_count": null,
   "id": "1f7a537c-313e-4805-87f6-40d13823577d",
   "metadata": {},
   "outputs": [],
   "source": [
    "# perform mann whitney test\n",
    "stat, p_value = mannwhitneyu(list(full_Hi['Distance']), list(low_no['Distance']))\n",
    "print('Statistics=%.2f, p=%.2f' % (stat, p_value))\n",
    "# Level of significance\n",
    "alpha = 0.05\n",
    "# conclusion\n",
    "if p_value < alpha:\n",
    "    print('Reject Null Hypothesis (Significant difference between two samples)')\n",
    "else:\n",
    "    print('Do not Reject Null Hypothesis (No significant difference between two samples)')\n",
    "# median \n",
    "med_fh = full_Hi.median()\n",
    "med_ln = low_no.median()\n",
    "print(\"mean of full_hi and mean of low_no:  med_fh = %g  med_ln = %g\" % (med_fh, med_ln))"
   ]
  },
  {
   "cell_type": "code",
   "execution_count": null,
   "id": "33eacdb9-e712-42a3-be42-6d9507098d3c",
   "metadata": {},
   "outputs": [],
   "source": [
    "# perform multiple pairwise comparison (Tukey HSD)\n",
    "m_comp = pairwise_tukeyhsd(endog=score_VAE_Spic['Distance'], groups=score_VAE_Spic['Agreement'], alpha=0.05)\n",
    "print(m_comp)"
   ]
  },
  {
   "cell_type": "code",
   "execution_count": null,
   "id": "8d1474e9-dc42-48cf-8025-9f6b680013cb",
   "metadata": {},
   "outputs": [],
   "source": [
    "# perform multiple pairwise comparison (Tukey HSD)\n",
    "#m_comp = pairwise_tukeyhsd(endog=score_VAE_Spic['Score'], groups=score_VAE_Spic['Spiculation'], alpha=0.05)\n",
    "#print(m_comp)"
   ]
  }
 ],
 "metadata": {
  "kernelspec": {
   "display_name": "Python 3",
   "language": "python",
   "name": "python3"
  },
  "language_info": {
   "codemirror_mode": {
    "name": "ipython",
    "version": 3
   },
   "file_extension": ".py",
   "mimetype": "text/x-python",
   "name": "python",
   "nbconvert_exporter": "python",
   "pygments_lexer": "ipython3",
   "version": "3.9.7"
  }
 },
 "nbformat": 4,
 "nbformat_minor": 5
}
